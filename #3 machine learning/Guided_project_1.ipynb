{
 "cells": [
  {
   "cell_type": "markdown",
   "metadata": {
    "id": "VMuUK0ap_bRD"
   },
   "source": [
    "# Chapter 1\n",
    "### Your first day at your new job 👩‍💻👨‍💻\n",
    "\n",
    "You are starting a new job as a junior software developer in an IT company. \n",
    "\n",
    "The company’s HR department asks you to fill out a form, so you start by assigning your personal information to corresponding variables.\n",
    "\n",
    "📌 Create a variable for your name, surname, age, ID number, place of residence, to specify if you have active health insurance or not, and lastly one for specifying your nationality.\n"
   ]
  },
  {
   "cell_type": "code",
   "execution_count": null,
   "metadata": {
    "id": "OPLhhc2Sp-D0"
   },
   "outputs": [],
   "source": [
    "#Please assign your personal information to variables\n"
   ]
  },
  {
   "cell_type": "markdown",
   "metadata": {
    "id": "3zaUlxwcp-D0"
   },
   "source": [
    "###Meet And Greet\n",
    "Introduce yourself to your new co-workers.\n",
    "\n",
    "📌 Use a f-string to print \"My name is Joey Tribbiani I am 25 years old and I live in London”."
   ]
  },
  {
   "cell_type": "code",
   "execution_count": null,
   "metadata": {
    "id": "XNuh5_2WXwvg"
   },
   "outputs": [],
   "source": [
    "#Write a sentence using the print function to describe yourself using the variables above in the correct data type\n"
   ]
  },
  {
   "cell_type": "markdown",
   "metadata": {
    "id": "EEL9To4ip-D1"
   },
   "source": [
    "### Equipment starter pack\n",
    "The HR department asks you to list the items you would need to improve your work efficiency\n",
    "\n",
    "Mandatory:\n",
    "* Laptop\n",
    "* Headset\n",
    "* Second monitor\n",
    "\n",
    "Optional:\n",
    "* Mousepad\n",
    "* USB drive\n",
    "* External drive\n",
    "\n",
    "\n",
    "📌 Create a shopping list that contains items above and print it."
   ]
  },
  {
   "cell_type": "code",
   "execution_count": null,
   "metadata": {
    "id": "fPFBLDyqp-D2"
   },
   "outputs": [],
   "source": [
    "#Create the item_list\n"
   ]
  },
  {
   "cell_type": "code",
   "execution_count": null,
   "metadata": {
    "id": "358R_CN5U2-J"
   },
   "outputs": [],
   "source": [
    "#Print the list\n"
   ]
  },
  {
   "cell_type": "markdown",
   "metadata": {
    "id": "5keEWjCyp-D2"
   },
   "source": [
    "####What is mandatory and what is optional?\n",
    "\n",
    "📌 Use list slicing to devide your list in two list: 'mandatory_item_list' and 'optional_item_list' and print both to the screen."
   ]
  },
  {
   "cell_type": "code",
   "execution_count": null,
   "metadata": {
    "id": "E6ewuDYZp-D2"
   },
   "outputs": [],
   "source": [
    "#Use list slicing to divide the mandatory items\n"
   ]
  },
  {
   "cell_type": "code",
   "execution_count": null,
   "metadata": {
    "id": "hOmkym01RGEL"
   },
   "outputs": [],
   "source": [
    "#Use list slicing to divide the optional items\n"
   ]
  },
  {
   "cell_type": "code",
   "execution_count": null,
   "metadata": {
    "id": "xsVv1_msVE1_"
   },
   "outputs": [],
   "source": [
    "#Print both to the screen\n"
   ]
  },
  {
   "cell_type": "markdown",
   "metadata": {
    "id": "s_M1Q93wp-D3"
   },
   "source": [
    "#### Go Shopping\n",
    "Next, you will have to go and purchase these items, the finance department confirmed a budget of $5000.\n",
    "\n",
    "📌 Assign 5000 to a variable called limit, so you know how much you can spend."
   ]
  },
  {
   "cell_type": "code",
   "execution_count": null,
   "metadata": {
    "id": "nCmpm0oqp-D3"
   },
   "outputs": [],
   "source": [
    "#Assign the spending limit value to a variable called limit\n"
   ]
  },
  {
   "cell_type": "markdown",
   "metadata": {
    "id": "VwbEEymVp-D3"
   },
   "source": [
    "####Price dictionary\n",
    "\n",
    "Before you start shopping yo need to find the best items that you can buy within the company budget. \n",
    "\n",
    "📌 Prepare a dictionary called “price_sheet” that includes the items as keys and the prices as values.  \n",
    " "
   ]
  },
  {
   "cell_type": "code",
   "execution_count": null,
   "metadata": {
    "id": "9o9n9Ag-p-D3"
   },
   "outputs": [],
   "source": [
    "#Create a dictionary that contains each item and its price\n",
    "\n"
   ]
  },
  {
   "cell_type": "markdown",
   "metadata": {
    "id": "rUYivBVEBhCv"
   },
   "source": [
    "####Shopping functions\n",
    "\n",
    "You need to define three functions that will help you during shopping.\n",
    "\n",
    "📌 First, create an empty list that  will be your shopping cart. Here you will add the items you need to purchase.\n",
    "\n",
    "1. Define a function for both adding items to the cart and removing them from the item_list.\n",
    "\n",
    "📌 The \"add_to_cart\" function should take the item name and the quantity to buy as an argument. \n",
    "\n",
    "2. Define a function that will create an invoice. \n",
    "\n",
    "📌 The \"create_invoice\" function should calculate the taxes of each item (18%) and add it to the total amount.\n",
    "\n",
    "3. Define a function for the checkout. \n",
    "\n",
    "📌 The \"checkout\" function should subtract the total amount from the budget and print a statement to inform if the payment was successful. "
   ]
  },
  {
   "cell_type": "code",
   "execution_count": null,
   "metadata": {
    "id": "dBNZ2ZdkGHUe"
   },
   "outputs": [],
   "source": [
    "#Initialize the cart list\n"
   ]
  },
  {
   "cell_type": "code",
   "execution_count": null,
   "metadata": {
    "id": "HH26hHHFGKPJ"
   },
   "outputs": [],
   "source": [
    "#Define the \"add_to_cart\" function\n"
   ]
  },
  {
   "cell_type": "code",
   "execution_count": null,
   "metadata": {
    "id": "TUmNr4xVGQdm"
   },
   "outputs": [],
   "source": [
    "#Define the \"create_invoice\" function\n"
   ]
  },
  {
   "cell_type": "code",
   "execution_count": null,
   "metadata": {
    "id": "iUlKiXgMGdIk"
   },
   "outputs": [],
   "source": [
    "#Define the \"checkout\" function\n"
   ]
  },
  {
   "cell_type": "markdown",
   "metadata": {
    "id": "2IFUlu0yB0In"
   },
   "source": [
    "Let's shop!"
   ]
  },
  {
   "cell_type": "code",
   "execution_count": null,
   "metadata": {
    "id": "FDO7CRJTWPg7"
   },
   "outputs": [],
   "source": [
    "#Call the \"add_to_cart\" function for each item\n",
    " \n",
    "#Add first item to cart\n",
    "\n",
    " \n",
    "#Add second item to cart\n",
    "\n",
    " \n",
    "#Add third item to cart\n",
    "\n",
    " \n",
    "#Add fourth item to cart\n",
    "\n",
    " \n",
    "#Add fifth item to cart\n",
    "\n",
    " \n",
    "#Add last item to cart\n",
    "\n",
    " \n",
    "#Call the create \"checkout\" function to pay for all your items \n"
   ]
  },
  {
   "cell_type": "markdown",
   "metadata": {
    "id": "ZL-r2x_xKixg"
   },
   "source": [
    "###Game Night\n",
    "\n",
    "You are back at the office and the HR department organizes a welcome party for new employees. \n",
    "\n",
    "You decide to create a Rock-Paper-Scissor game. \n",
    "\n",
    "📌 Create a Rock-Paper-Scissor game in which the user plays against the computer. The player will choose one of the actions, and the computer will choose its action randomly.\n"
   ]
  },
  {
   "cell_type": "code",
   "execution_count": 1,
   "metadata": {
    "id": "qzD5pxBTgcFb"
   },
   "outputs": [],
   "source": [
    "#Import the random library\n",
    "import random"
   ]
  },
  {
   "cell_type": "code",
   "execution_count": 2,
   "metadata": {
    "id": "oJv-ihLAgcRo"
   },
   "outputs": [],
   "source": [
    "#create a list containing the three actions of the game.\n",
    "action_list = ['rock', 'paper', 'scissors']"
   ]
  },
  {
   "cell_type": "code",
   "execution_count": 4,
   "metadata": {
    "id": "DNUa_9afWqMd"
   },
   "outputs": [
    {
     "name": "stdout",
     "output_type": "stream",
     "text": [
      "How many rounds do you want to play? Please enter a number here: 3\n",
      "Round number: 1\n",
      "Please select your action:rock\n",
      "Computer: scissors\n",
      "Player: rock\n",
      "Winner is: Player\n",
      "Round number: 2\n",
      "Please select your action:scissors\n",
      "Computer: rock\n",
      "Player: scissors\n",
      "Winner is: Computer\n",
      "Round number: 3\n",
      "Please select your action:scissors\n",
      "Computer: rock\n",
      "Player: scissors\n",
      "Winner is: Computer\n",
      "Winner is Computer. 2 : 1\n"
     ]
    }
   ],
   "source": [
    "#Set the scores of players to 0\n",
    "computer_score = 0\n",
    "player_score = 0\n",
    "\n",
    "#Ask the user how many rounds they want to play\n",
    "total_rounds = input('How many rounds do you want to play? Please enter a number here: ')\n",
    "\n",
    "#Add a round_counter that is 0 at the beginning\n",
    "round_counter = 0\n",
    "#Write a while loop and put the game inside\n",
    "\n",
    "while True:\n",
    "    \n",
    "  #Increase round_counter by and print it\n",
    "    round_counter+=1\n",
    "    print(\"Round number:\",round_counter)  \n",
    "\n",
    "\n",
    "  #Select a random action for computer\n",
    "    computer_choice = random.choice(action_list)\n",
    "\n",
    "\n",
    "  #Ask player to choose an action\n",
    "    player_choice = input(\"Please select your action:\")\n",
    "\n",
    "  #Print the players choices\n",
    "    print(\"Computer:\", computer_choice)\n",
    "    print(\"Player:\", player_choice)\n",
    "\n",
    "\n",
    "\n",
    "  #tie condition\n",
    "    if computer_choice==player_choice:\n",
    "        print(\"Tie!\")\n",
    "\n",
    "  #Remaining conditions\n",
    "    elif computer_choice=='paper':\n",
    "        \n",
    "        if player_choice=='rock':\n",
    "            print('Winner is: Computer')\n",
    "            computer_score+=1\n",
    "        else:\n",
    "            print(\"Winner is: Player\")\n",
    "            player_score+=1\n",
    "            \n",
    "    elif computer_choice=='rock':\n",
    "        \n",
    "        if player_choice=='paper':\n",
    "            print(\"Winner is: Player\")\n",
    "            player_score+=1\n",
    "        else:\n",
    "            print(\"Winner is: Computer\")\n",
    "            computer_score+=1\n",
    "            \n",
    "    elif computer_choice=='scissors':\n",
    "        if player_choice=='paper':\n",
    "            print(\"Winner is: Computer\")\n",
    "            computer_score+=1\n",
    "        else:\n",
    "            print(\"Winner is: Player\")\n",
    "            player_score+=1\n",
    "            \n",
    "  #Stop the while loop if the round_counter equals the number of total rounds\n",
    "    if round_counter==int(total_rounds):\n",
    "        break\n",
    "\n",
    "#Print the outcome of the game by using conditional statements\n",
    "if computer_score==player_score:\n",
    "    print(\"There is no winner, tie.\", computer_score,':', player_score)\n",
    "elif computer_score>player_score:\n",
    "    print(\"Winner is Computer.\", computer_score, ':', player_score)\n",
    "elif computer_score<player_score:\n",
    "    print(\"Winner is Player.\", computer_score, \":\", player_score)\n"
   ]
  },
  {
   "cell_type": "markdown",
   "metadata": {
    "id": "jdrYN0Xgp-D6"
   },
   "source": [
    "# Your first task \n",
    "\n",
    "Rachel asks you to write a program to track the name and revenue each employee brings.  \n",
    "\n",
    "* Create the \"salesperson_revenue\" dictionary to see the employee name as a key and the revenue as a value.\n",
    "\n",
    "  📌 Every employee starts with 0 revenue.\n",
    "* Define the \"enter_revenue\" function. \n",
    "\n",
    "  📌 The function takes the name and revenue as an argument and updates the salesperson_revenue dictionary.\n"
   ]
  },
  {
   "cell_type": "code",
   "execution_count": 5,
   "metadata": {
    "id": "3vzRo7hyMRv2"
   },
   "outputs": [],
   "source": [
    "#Create salesperson_revenue dictionary\n",
    "\n",
    "salesperson_revenue = {\n",
    "    'Ali': 0,\n",
    "    'Veli': 0,\n",
    "    'Arda': 0\n",
    "}"
   ]
  },
  {
   "cell_type": "code",
   "execution_count": 6,
   "metadata": {
    "id": "m-8IozBwMRzM"
   },
   "outputs": [],
   "source": [
    "#Define enter_revenue function\n",
    "def enter_revenue(name, revenue):\n",
    "    global salesperson_revenue\n",
    "    salesperson_revenue[name]+=revenue"
   ]
  },
  {
   "cell_type": "markdown",
   "metadata": {
    "id": "UnTGSoNTi58u"
   },
   "source": [
    "####Try out the functions\n",
    "* In a while loop ask the user to give the name of the employee and for the revenue \n",
    "\n",
    "  📌 If the user enters “quit” the loop should break.\n",
    "\n",
    "After that, print out the salesperson_revenue dictionary.\n"
   ]
  },
  {
   "cell_type": "code",
   "execution_count": 7,
   "metadata": {
    "id": "2E549VvFXNi6"
   },
   "outputs": [
    {
     "name": "stdout",
     "output_type": "stream",
     "text": [
      "Employee name:Ali\n",
      "Employee revenue is:50\n",
      "Ali`s revenue is 50\n",
      "Employee name:Ali\n",
      "Employee revenue is:150\n",
      "Ali`s revenue is 200\n",
      "Employee name:Arda\n",
      "Employee revenue is:600\n",
      "Arda`s revenue is 600\n",
      "Employee name:quit\n"
     ]
    }
   ],
   "source": [
    "#Asking user employee name as input\n",
    "while True:\n",
    "    name = input(\"Employee name:\")\n",
    "    if name=='quit':\n",
    "        break\n",
    "    revenue = int(input(\"Employee revenue is:\"))\n",
    "    enter_revenue(name, revenue)\n",
    "    print(f\"{name}`s revenue is {salesperson_revenue[name]}\")\n"
   ]
  },
  {
   "cell_type": "code",
   "execution_count": 8,
   "metadata": {
    "id": "OAvl9rgOXPe6"
   },
   "outputs": [
    {
     "name": "stdout",
     "output_type": "stream",
     "text": [
      "{'Ali': 200, 'Veli': 0, 'Arda': 600}\n"
     ]
    }
   ],
   "source": [
    "#Print the salesperson_revenue dictionary\n",
    "print(salesperson_revenue)"
   ]
  },
  {
   "cell_type": "code",
   "execution_count": null,
   "metadata": {},
   "outputs": [],
   "source": []
  }
 ],
 "metadata": {
  "colab": {
   "collapsed_sections": [],
   "name": "Guided_project_1.ipynb",
   "provenance": []
  },
  "interpreter": {
   "hash": "c5914ae3790566b9cd0e984a9bdda42a29da8adf046b5ac0173e0d37aacf3dab"
  },
  "kernelspec": {
   "display_name": "Python 3 (ipykernel)",
   "language": "python",
   "name": "python3"
  },
  "language_info": {
   "codemirror_mode": {
    "name": "ipython",
    "version": 3
   },
   "file_extension": ".py",
   "mimetype": "text/x-python",
   "name": "python",
   "nbconvert_exporter": "python",
   "pygments_lexer": "ipython3",
   "version": "3.9.7"
  }
 },
 "nbformat": 4,
 "nbformat_minor": 1
}
