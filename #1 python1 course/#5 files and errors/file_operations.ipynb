{
 "cells": [
  {
   "cell_type": "markdown",
   "metadata": {
    "id": "4vsuKp1Fn1rR"
   },
   "source": [
    "#Create a file\n",
    "\n",
    "\n",
    "\n",
    "1.   Create a folder called \"file_operations\".\n",
    "2.   Create a file called \"message.txt\" inside \"file_operations\" folder\n",
    "\n",
    "\n",
    "\n",
    "\n"
   ]
  },
  {
   "cell_type": "code",
   "execution_count": null,
   "metadata": {
    "id": "vGiW6Yl8mMy5"
   },
   "outputs": [],
   "source": [
    "# Navigate to message.txt’s directory\n",
    "%cd /content/file_operations"
   ]
  },
  {
   "cell_type": "code",
   "execution_count": null,
   "metadata": {
    "id": "Ts-Gogiroc0U"
   },
   "outputs": [],
   "source": [
    "# opens hello.txt text file in the current directory\n",
    "message_file = open(\"message.txt\")"
   ]
  },
  {
   "cell_type": "code",
   "execution_count": null,
   "metadata": {
    "id": "-oxnKr-yog6G"
   },
   "outputs": [],
   "source": [
    "# specifying the full path\n",
    "message_file = open(\"/content/file_operations/message.txt\")"
   ]
  },
  {
   "cell_type": "code",
   "execution_count": null,
   "metadata": {
    "id": "v6FTiSivopbg"
   },
   "outputs": [],
   "source": [
    "message_file = open(\"message.txt\", \"r\")"
   ]
  },
  {
   "cell_type": "code",
   "execution_count": null,
   "metadata": {
    "id": "Y6VsltxJrxl5"
   },
   "outputs": [],
   "source": [
    "content = message_file.read()\n",
    "message_file.close()"
   ]
  },
  {
   "cell_type": "code",
   "execution_count": null,
   "metadata": {
    "id": "Z_qkSuwerzpx"
   },
   "outputs": [],
   "source": [
    "print(content)"
   ]
  },
  {
   "cell_type": "code",
   "execution_count": null,
   "metadata": {
    "id": "98pZ6mwbr1wi"
   },
   "outputs": [],
   "source": [
    "hello_file = open(\"hello.txt\", \"w\")"
   ]
  },
  {
   "cell_type": "code",
   "execution_count": null,
   "metadata": {
    "id": "ddfzs2aQr7yZ"
   },
   "outputs": [],
   "source": [
    "hello_file.write('Hello world, this is Python')\n",
    "hello_file.close()"
   ]
  },
  {
   "cell_type": "code",
   "execution_count": null,
   "metadata": {
    "id": "P1foCjY3sG5a"
   },
   "outputs": [],
   "source": [
    "​​import random\n",
    "while True:\n",
    "\n",
    "  random_number = random.randrange(1000)\n",
    "  print(random_number)\n",
    " \n",
    "  if random_number == 777:\n",
    "    print('Found!')\n",
    "    break"
   ]
  },
  {
   "cell_type": "code",
   "execution_count": null,
   "metadata": {
    "id": "8rJRc5K7sKFe"
   },
   "outputs": [],
   "source": [
    "import random\n",
    " \n",
    "numbers_file = open('number_history.txt', 'w')\n",
    " \n",
    "while True:\n",
    " \n",
    "  random_number = random.randrange(1000)\n",
    "  print(random_number)\n",
    "  numbers_file.write(str(random_number))\n",
    "  numbers_file.write('\\n')\n",
    " \n",
    "  if random_number == 777:\n",
    "    print('Found!')\n",
    "    numbers_file.write('Found!')\n",
    "    numbers_file.close()\n",
    "    break"
   ]
  },
  {
   "cell_type": "code",
   "execution_count": null,
   "metadata": {
    "id": "97X8-s6ysmW_"
   },
   "outputs": [],
   "source": [
    "import random\n",
    " \n",
    "with open('number_history.txt', 'w') as numbers_file:\n",
    " \n",
    "  while True:\n",
    "\n",
    "    random_number = random.randrange(1000)\n",
    "    print(random_number)\n",
    "    numbers_file.write(str(random_number))\n",
    "    numbers_file.write('\\n')\n",
    " \n",
    "    if random_number == 777:\n",
    "      print('Found!')\n",
    "      numbers_file.write('Found!')\n",
    "      break"
   ]
  }
 ],
 "metadata": {
  "colab": {
   "collapsed_sections": [],
   "name": "File_Operations_updated.ipynb",
   "provenance": []
  },
  "kernelspec": {
   "display_name": "Python 3 (ipykernel)",
   "language": "python",
   "name": "python3"
  },
  "language_info": {
   "codemirror_mode": {
    "name": "ipython",
    "version": 3
   },
   "file_extension": ".py",
   "mimetype": "text/x-python",
   "name": "python",
   "nbconvert_exporter": "python",
   "pygments_lexer": "ipython3",
   "version": "3.9.7"
  }
 },
 "nbformat": 4,
 "nbformat_minor": 1
}
